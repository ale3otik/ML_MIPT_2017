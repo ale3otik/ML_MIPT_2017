{
 "cells": [
  {
   "cell_type": "code",
   "execution_count": 283,
   "metadata": {
    "collapsed": false
   },
   "outputs": [],
   "source": [
    "import numpy as np\n",
    "class DecisionTree:    \n",
    "    def __init__(self,depth_limit=5):\n",
    "        self.depth_limit = depth_limit\n",
    "        self.childs = [] # tree structure, cointains indices of nodes\n",
    "        self.feature_index = [] # index of feature using in splitting \n",
    "        self.feature_bound = [] # boundary value of current feature for node \n",
    "        self.leaf_target = [] # answer for leaf\n",
    "        \n",
    "    def _append_nodes(self,quantity):\n",
    "        for i in range(quantity):\n",
    "            self.childs.append([])\n",
    "            self.feature_index.append(-1)\n",
    "            self.feature_bound.append(-1)\n",
    "            self.leaf_target.append(-1)\n",
    "        \n",
    "    def _is_leaf(self, index) :\n",
    "        if len(self.childs[index]) == 0:\n",
    "            return True\n",
    "        return False\n",
    "\n",
    "    #using MSE metric\n",
    "    def _split(self,l_index, r_index, f_index, f_bound,real_split=False):\n",
    "        sorted_data = np.array(sorted(self.train_data[l_index:r_index],\n",
    "                    key=lambda x: x[f_index]))\n",
    "        \n",
    "        if real_split:\n",
    "            self.train_data[l_index:r_index] = sorted_data\n",
    "            \n",
    "        #try to find where to split sorted data\n",
    "        bound_position = len(sorted_data)\n",
    "        for i in range(len(sorted_data)):\n",
    "            if sorted_data[i][f_index] > f_bound:\n",
    "                bound_position = i\n",
    "                break\n",
    "                    \n",
    "        #make split and calc MSE in childs\n",
    "        left_target = sorted_data[:bound_position][:,-1]\n",
    "        right_target = sorted_data[bound_position:][:,-1]\n",
    "        HL = np.var(left_target)\n",
    "        HR = np.var(right_target)\n",
    "        L = len(left_target)\n",
    "        R = len(right_target)\n",
    "        Q = len(sorted_data)\n",
    "        \n",
    "        # return result of splitting \n",
    "        if real_split:\n",
    "            return bound_position\n",
    "        \n",
    "        #return quality of splitting\n",
    "        return L/Q * HL + R/Q * HR\n",
    "        \n",
    "    def _calc_split_metric(self,l_index, r_index, f_index, f_bound):\n",
    "        return self._split(l_index, r_index, f_index, f_bound)\n",
    "        \n",
    "    def _build_node(self,node_id,l_index,r_index,depth):\n",
    "        #stop splitting to make leaf\n",
    "        if depth >= self.depth_limit or r_index - l_index < 2:\n",
    "            #average value of leaf's targets\n",
    "            self.leaf_target[node_id] = np.mean((self.train_data[l_index:r_index])[:,-1])\n",
    "            return\n",
    "        \n",
    "        # try to find best split \n",
    "        best_metric = 1e18\n",
    "        best_f_index = 0\n",
    "        best_bound = 0\n",
    "        for f_index in range(len(self.train_data[0]) - 1):\n",
    "                l_bound = np.min(self.train_data[:,f_index])\n",
    "                r_bound = np.max(self.train_data[:,f_index])\n",
    "                step = (r_bound - l_bound) / 100.0\n",
    "                for bound in np.arange(l_bound,r_bound + step,step=step):\n",
    "                    metric = self._calc_split_metric(l_index,r_index,f_index,bound)\n",
    "                    #update best result\n",
    "                    if best_metric > metric:\n",
    "                        best_metric = metric\n",
    "                        best_bound = bound\n",
    "                        best_f_index = f_index\n",
    "\n",
    "        if best_metric == 1e18:\n",
    "            assert r_index - l_index >= 1\n",
    "            self.leaf_target[node_id] = np.mean(self.train_data[l_index:r_index][:,-1])\n",
    "            return\n",
    "        \n",
    "        split_position = self._split(l_index,r_index,best_f_index,best_bound,real_split=True)\n",
    "\n",
    "        #can't create appropriate division\n",
    "        if split_position == r_index - l_index:\n",
    "            self.leaf_target[node_id] = np.mean(self.train_data[l_index:r_index][:,-1])\n",
    "            return\n",
    "            \n",
    "        child_l = len(self.childs)\n",
    "        child_r = child_l + 1\n",
    "        self._append_nodes(2)\n",
    "        self.childs[node_id] = [child_l,child_r]\n",
    "        self.feature_index[node_id] = best_f_index\n",
    "        self.feature_bound[node_id] = best_bound\n",
    "        \n",
    "        self._build_node(child_l,l_index,split_position + l_index,depth+1)\n",
    "        self._build_node(child_r,split_position + l_index,r_index,depth+1)\n",
    "        \n",
    "    def _build(self):\n",
    "        l_index = 0\n",
    "        r_index = len(self.train_data)\n",
    "        \n",
    "        #add root to tree\n",
    "        self._append_nodes(1)\n",
    "        #build recursive \n",
    "        self._build_node(0,l_index,r_index,0)\n",
    "        #clear useless data\n",
    "#         self.train_data = []\n",
    "        \n",
    "    def fit(self,features,target):\n",
    "        #copy data and join features and target\n",
    "        tmp = features.copy()\n",
    "        self.train_data = []\n",
    "        for i in range(len(tmp)):\n",
    "            self.train_data.append(np.concatenate((tmp[i], [target[i]])))\n",
    "        self.train_data = np.array(self.train_data)\n",
    "        self._build()\n",
    "        \n",
    "    #PREDICTION\n",
    "    def _find(self,node_id,test_features):\n",
    "        if self._is_leaf(node_id) :\n",
    "            return self.leaf_target[node_id]\n",
    "        \n",
    "        feature_id = self.feature_index[node_id]\n",
    "        bound = self.feature_bound[node_id]\n",
    "        test_value = test_features[feature_id]\n",
    "        if test_value <= bound:\n",
    "            #go down to the LEFT child\n",
    "            return self._find(self.childs[node_id][0],test_features)\n",
    "        else :\n",
    "            #go down to the RIGHT child\n",
    "            return self._find(self.childs[node_id][1],test_features)\n",
    "        \n",
    "    def predict(self,test_features):\n",
    "        return [self._find(0,feature) for feature in test_features]"
   ]
  },
  {
   "cell_type": "markdown",
   "metadata": {},
   "source": [
    "Протестируем..."
   ]
  },
  {
   "cell_type": "code",
   "execution_count": 303,
   "metadata": {
    "collapsed": false
   },
   "outputs": [],
   "source": [
    "from sklearn import datasets\n",
    "from sklearn import cross_validation\n",
    "import matplotlib.pyplot as plt\n",
    "%matplotlib inline\n",
    "boston = datasets.load_boston()\n",
    "features = boston['data']\n",
    "target = boston['target']"
   ]
  },
  {
   "cell_type": "code",
   "execution_count": 277,
   "metadata": {
    "collapsed": false
   },
   "outputs": [],
   "source": [
    "train_data, test_data, train_labels, test_labels = cross_validation.train_test_split(features, target, \n",
    "                                                                                     test_size = 0.25)"
   ]
  },
  {
   "cell_type": "code",
   "execution_count": 301,
   "metadata": {
    "collapsed": false
   },
   "outputs": [
    {
     "name": "stderr",
     "output_type": "stream",
     "text": [
      "/Users/alex/anaconda/lib/python3.5/site-packages/numpy/core/_methods.py:82: RuntimeWarning: Degrees of freedom <= 0 for slice\n",
      "  warnings.warn(\"Degrees of freedom <= 0 for slice\", RuntimeWarning)\n",
      "/Users/alex/anaconda/lib/python3.5/site-packages/numpy/core/_methods.py:94: RuntimeWarning: invalid value encountered in true_divide\n",
      "  arrmean, rcount, out=arrmean, casting='unsafe', subok=False)\n",
      "/Users/alex/anaconda/lib/python3.5/site-packages/numpy/core/_methods.py:116: RuntimeWarning: invalid value encountered in double_scalars\n",
      "  ret = ret.dtype.type(ret / rcount)\n"
     ]
    }
   ],
   "source": [
    "my_var = []\n",
    "classic_var = []\n",
    "for n in range(1,9):\n",
    "    myTree = DecisionTree(depth_limit=n)\n",
    "    myTree.fit(train_data,train_labels)\n",
    "    res = myTree.predict(test_data) - test_labels\n",
    "    my_var.append(np.var(res))\n",
    "    \n",
    "    T = tree.DecisionTreeRegressor(max_depth=n)\n",
    "    T.fit(train_data,train_labels)\n",
    "    res2 = T.predict(test_data) - test_labels\n",
    "    classic_var.append(np.var(res2))"
   ]
  },
  {
   "cell_type": "code",
   "execution_count": 311,
   "metadata": {
    "collapsed": false
   },
   "outputs": [
    {
     "data": {
      "image/png": "[encoded data removed]",
      "text/plain": [
       "<matplotlib.figure.Figure at 0x10eb8ccf8>"
      ]
     },
     "metadata": {},
     "output_type": "display_data"
    }
   ],
   "source": [
    "X = np.arange(1,9)\n",
    "plt.figure(figsize=(12,8))\n",
    "plt.grid(True)\n",
    "plt.title('MSE error')\n",
    "plt.plot(X,my_var,color='red',label='MyTree3000XX')\n",
    "plt.plot(X,classic_var,color='blue',label='sklearnDecisionTreeRegressor')\n",
    "plt.xlabel('max_depth')\n",
    "plt.ylabel('MSE')\n",
    "plt.legend(loc='best')\n",
    "plt.show()\n"
   ]
  },
  {
   "cell_type": "markdown",
   "metadata": {},
   "source": [
    "Результаты сравнения деревеьев:\n",
    "\n",
    " - Ошибка MSE на кросс-валидации на глубине $max\\_depth \\leq 5$ почти одинакова, при $max\\_depth = 6,7$ ошибка у дерева sklearn немного больше.\n",
    " - При больших значениях $max\\_depth$ самодельное дерево работает слишком долго для тестирования.\n"
   ]
  },
  {
   "cell_type": "code",
   "execution_count": null,
   "metadata": {
    "collapsed": true
   },
   "outputs": [],
   "source": []
  }
 ],
 "metadata": {
  "kernelspec": {
   "display_name": "Python 3",
   "language": "python",
   "name": "python3"
  },
  "language_info": {
   "codemirror_mode": {
    "name": "ipython",
    "version": 3
   },
   "file_extension": ".py",
   "mimetype": "text/x-python",
   "name": "python",
   "nbconvert_exporter": "python",
   "pygments_lexer": "ipython3",
   "version": "3.5.1"
  }
 },
 "nbformat": 4,
 "nbformat_minor": 0
}
