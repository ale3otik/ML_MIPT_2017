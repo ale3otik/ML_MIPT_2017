{
 "cells": [
  {
   "cell_type": "code",
   "execution_count": 210,
   "metadata": {
    "collapsed": false
   },
   "outputs": [],
   "source": [
    "import numpy as np\n",
    "from sklearn import metrics\n",
    "class DecisionTree:    \n",
    "    def __init__(self,depth_limit=10):\n",
    "        self.depth_limit = depth_limit\n",
    "        self.childs = [] # tree structure, cointains indices of nodes\n",
    "        self.feature_index = [] # index of feature using in splitting \n",
    "        self.feature_bound = [] # boundary value of current feature for node \n",
    "        self.leaf_target = [] # answer for leaf\n",
    "        \n",
    "    def _append_nodes(self,quantity):\n",
    "        for i in range(quantity):\n",
    "            self.childs.append([])\n",
    "            self.feature_index.append([])\n",
    "            self.feature_bound.append([])\n",
    "            self.leaf_target.append([])\n",
    "        \n",
    "    def _is_leaf(self, index) :\n",
    "        if len(self.childs[index]) == 0:\n",
    "            return True\n",
    "        return False\n",
    "\n",
    "    #using MSE metric\n",
    "    def _split(self,l_index, r_index, f_index, f_bound,real_split=False):\n",
    "        sorted_data = np.array(sorted(self.train_data[l_index:r_index],\n",
    "                    key=lambda x: x[f_index]))\n",
    "        \n",
    "        if real_split:\n",
    "            self.train_data[l_index:r_index] = sorted_data\n",
    "            \n",
    "        #try to find where to split sorted data\n",
    "        bound_position = len(sorted_data)\n",
    "        for i in range(len(sorted_data)):\n",
    "            if sorted_data[i][f_index] > f_bound:\n",
    "                bound_position = i\n",
    "                break\n",
    "                    \n",
    "        #make split and calc MSE in childs\n",
    "        left_target = sorted_data[:bound_position][:,-1]\n",
    "        right_target = sorted_data[bound_position:][:,-1]\n",
    "        HL = np.var(left_target)\n",
    "        HR = np.var(right_target)\n",
    "        L = len(left_target)\n",
    "        R = len(right_target)\n",
    "        Q = len(sorted_data)\n",
    "        \n",
    "        # return result of splitting \n",
    "        if real_split:\n",
    "            return bound_position\n",
    "        \n",
    "        #return quality of splitting\n",
    "        return L/Q * HL + R/Q * HR\n",
    "        \n",
    "    def _calc_split_metric(self,l_index, r_index, f_index, f_bound):\n",
    "        return self._split(l_index, r_index, f_index, f_bound)\n",
    "        \n",
    "    def _build_node(self,node_id,l_index,r_index,depth):\n",
    "        #stop splitting to make leaf\n",
    "        if depth >= self.depth_limit or r_index - l_index < 2:\n",
    "            #average value of leaf's targets\n",
    "            self.leaf_target[node_id] = np.mean((self.train_data[l_index:r_index])[:,-1])\n",
    "            return\n",
    "        \n",
    "        # try to find best split \n",
    "        best_metric = 1e18\n",
    "        best_f_index = 0\n",
    "        best_bound = 0\n",
    "        for f_index in range(len(self.train_data[0]) - 1):\n",
    "                l_bound = np.min(self.train_data[f_index])\n",
    "                r_bound = np.max(self.train_data[f_index])\n",
    "                step = (r_bound - l_bound) / 100.0 \n",
    "                for bound in np.arange(l_bound,r_bound + step,step=step):\n",
    "                    metric = self._calc_split_metric(l_index,r_index,f_index,bound)\n",
    "                    #update best result\n",
    "                    if best_metric > metric:\n",
    "                        best_metric = metric\n",
    "                        best_bound = bound\n",
    "                        best_f_index = f_index\n",
    "\n",
    "        if best_metric == 1e18:\n",
    "            assert r_index - l_index >= 1\n",
    "            self.leaf_target[node_id] = np.mean(self.train_data[l_index:r_index][:,-1])\n",
    "            return\n",
    "        \n",
    "        split_position = self._split(l_index,r_index,best_f_index,best_bound,real_split=True)\n",
    "#         print(l_index)\n",
    "#         print(r_index)\n",
    "#         print(split_position)\n",
    "#         print(\"********\")\n",
    "        \n",
    "        #can't create appropriate division\n",
    "        if split_position == r_index - l_index:\n",
    "            self.leaf_target[node_id] = np.mean(self.train_data[l_index:r_index][:,-1])\n",
    "            return\n",
    "            \n",
    "        child_l = len(self.childs)\n",
    "        child_r = child_l + 1\n",
    "        self._append_nodes(2)\n",
    "        self.childs[node_id] = [child_l,child_r]\n",
    "        self.feature_index[node_id] = best_f_index\n",
    "        self.feature_bound[node_id] = best_bound\n",
    "        \n",
    "        self._build_node(child_l,l_index,split_position + l_index,depth+1)\n",
    "        self._build_node(child_r,split_position + l_index,r_index,depth+1)\n",
    "        \n",
    "    def _build(self):\n",
    "        l_index = 0\n",
    "        r_index = len(self.train_data)\n",
    "        \n",
    "        #add root to tree\n",
    "        self._append_nodes(1)\n",
    "        #build recursive \n",
    "        self._build_node(0,l_index,r_index,0)\n",
    "        #clear useless data\n",
    "#         self.train_data = []\n",
    "        \n",
    "    def fit(self,features,target):\n",
    "        #copy data and join features and target\n",
    "        tmp = features.copy()\n",
    "        self.train_data = []\n",
    "        for i in range(len(tmp)):\n",
    "            self.train_data.append(np.concatenate((tmp[i], [target[i]])))\n",
    "        self.train_data = np.array(self.train_data)\n",
    "        self._build()\n",
    "        \n",
    "    #PREDICTION\n",
    "    def _find(self,node_id,test_features):\n",
    "        if self._is_leaf(node_id) :\n",
    "            return self.leaf_target[node_id]\n",
    "        \n",
    "        feature_id = self.feature_index[node_id]\n",
    "        bound = self.feature_bound[node_id]\n",
    "        test_value = test_features[feature_id]\n",
    "        if test_value <= bound:\n",
    "            #go down to the LEFT child\n",
    "            return self._find(self.childs[node_id][0],test_features)\n",
    "        else :\n",
    "            #go down to the RIGHT child\n",
    "            return self._find(self.childs[node_id][1],test_features)\n",
    "        \n",
    "    def predict(self,test_features):\n",
    "        return [self._find(0,feature) for feature in test_features]"
   ]
  },
  {
   "cell_type": "markdown",
   "metadata": {},
   "source": [
    "Протестируем..."
   ]
  },
  {
   "cell_type": "code",
   "execution_count": 160,
   "metadata": {
    "collapsed": false
   },
   "outputs": [],
   "source": [
    "from sklearn import datasets"
   ]
  },
  {
   "cell_type": "code",
   "execution_count": null,
   "metadata": {
    "collapsed": true
   },
   "outputs": [],
   "source": []
  },
  {
   "cell_type": "code",
   "execution_count": 211,
   "metadata": {
    "collapsed": false
   },
   "outputs": [
    {
     "name": "stderr",
     "output_type": "stream",
     "text": [
      "/Users/alex/anaconda/lib/python3.5/site-packages/numpy/core/_methods.py:82: RuntimeWarning: Degrees of freedom <= 0 for slice\n",
      "  warnings.warn(\"Degrees of freedom <= 0 for slice\", RuntimeWarning)\n",
      "/Users/alex/anaconda/lib/python3.5/site-packages/numpy/core/_methods.py:94: RuntimeWarning: invalid value encountered in true_divide\n",
      "  arrmean, rcount, out=arrmean, casting='unsafe', subok=False)\n",
      "/Users/alex/anaconda/lib/python3.5/site-packages/numpy/core/_methods.py:116: RuntimeWarning: invalid value encountered in double_scalars\n",
      "  ret = ret.dtype.type(ret / rcount)\n"
     ]
    }
   ],
   "source": [
    "boston = datasets.load_boston()\n",
    "features = boston['data']\n",
    "target = boston['target']\n",
    "tree = DecisionTree()\n",
    "tree.fit(features,target)"
   ]
  },
  {
   "cell_type": "code",
   "execution_count": null,
   "metadata": {
    "collapsed": false
   },
   "outputs": [],
   "source": []
  },
  {
   "cell_type": "code",
   "execution_count": null,
   "metadata": {
    "collapsed": true
   },
   "outputs": [],
   "source": []
  },
  {
   "cell_type": "code",
   "execution_count": 213,
   "metadata": {
    "collapsed": false
   },
   "outputs": [],
   "source": [
    "res = tree.predict(features)"
   ]
  },
  {
   "cell_type": "code",
   "execution_count": 216,
   "metadata": {
    "collapsed": false
   },
   "outputs": [
    {
     "name": "stdout",
     "output_type": "stream",
     "text": [
      "[ 0.4         0.25974026  0.          0.          0.          0.\n",
      " -2.48823529  0.         -0.75       -0.5         0.75        0.5125      0.\n",
      "  1.45974026  3.65974026  1.95974026 -1.45        1.9125      1.65974026\n",
      "  3.65974026  0.03333333 -0.1875      1.61        2.31        1.21        0.81\n",
      "  1.13333333 -0.09        1.0125      0.85974026  0.          3.23333333\n",
      "  0.          0.         -0.1         2.95974026  1.85974026  0.85974026\n",
      " -2.84025974 -5.90612245  0.         -1.70612245 -0.40612245  0.19387755\n",
      " -1.65714286  0.24285714  0.          0.          0.          0.          0.\n",
      "  1.35974026 -0.10612245 -1.54025974 -0.85        0.          0.19387755\n",
      "  0.          1.59387755  2.25974026  1.71176471  1.73333333  2.69387755\n",
      " -3.14025974  0.          1.39387755  2.45974026 -0.14025974 -0.15\n",
      "  0.95974026  0.69387755  0.15974026  2.09387755  1.49387755  0.79387755\n",
      "  0.45974026  1.85974026  1.05974026 -0.78823529  1.55974026 -3.10612245\n",
      "  0.99387755  0.09387755  1.99387755 -2.04025974 -1.70612245 -0.05\n",
      " -0.34025974  5.52        0.42       -0.74025974 -0.14025974 -1.04025974\n",
      " -0.65        1.25974026  0.72        0.45974026  0.          0.         -4.08\n",
      " -5.64025974 -2.15        0.          0.1125     -0.6875     -2.69       -2.69\n",
      " -0.9875     -0.3875      0.0125     -1.28823529 -0.94025974  0.26666667\n",
      "  0.36666667  3.35974026 -0.56666667  0.65974026  2.65974026  0.01176471\n",
      "  1.11176471 -0.7         0.          0.          0.          0.         -0.1\n",
      "  0.          0.61        1.4125      2.51        0.2125     -0.1875\n",
      " -1.14025974  1.0125     -0.89       -1.29       -0.59        2.3125\n",
      "  0.33333333 -0.99       -0.36666667  0.          0.          0.          0.\n",
      "  0.          0.          0.          0.          0.         -3.76666667\n",
      " -1.86666667  2.43333333 -1.66666667  0.73333333  0.          0.          0.\n",
      "  0.          0.          0.          0.          0.          0.         -0.35\n",
      "  0.          0.          0.          0.         -1.6         0.33333333\n",
      "  1.6        -3.6875     -1.74025974 -0.74025974 -0.28       -1.34025974\n",
      "  4.52       -0.78        0.          0.          0.          0.          0.\n",
      "  0.          0.          0.         -0.31111111  1.88888889 -3.21111111\n",
      " -5.31111111  1.18888889  0.          0.          0.          0.\n",
      " -1.61111111  0.         -2.91111111  0.          0.          7.58888889\n",
      "  0.          0.75       -0.75       -0.74025974 -2.54025974  0.          0.\n",
      "  0.84       -0.86        1.54        0.05       -6.24025974  0.\n",
      " -3.14025974  0.         -6.84025974 -0.66        0.          0.4        -0.86\n",
      " -0.4        -0.98        0.          0.          0.         -2.48        0.\n",
      "  0.         -2.44025974 -2.58        0.          0.          0.\n",
      " -2.14025974  0.         -6.60612245  1.19387755  1.59387755 -0.14025974\n",
      "  0.31176471 -0.34025974  1.19387755  0.13333333 -0.1        -2.44025974\n",
      "  1.35974026 -2.64025974 -1.30612245  0.49387755  0.          0.          0.\n",
      "  2.99387755  0.95974026  0.          0.          0.          0.          0.\n",
      "  0.          0.          0.          0.          0.          0.          0.\n",
      "  0.          0.6         0.2        -0.30612245  0.49387755  0.          0.\n",
      "  0.          0.          0.         -4.20612245  0.          0.          0.\n",
      "  0.          0.          0.          0.35        0.          1.69387755\n",
      "  2.59387755 -2.94025974  4.4        -4.4        -3.00612245 -2.04025974\n",
      "  0.15974026 -3.70612245 -2.20612245  0.11176471  0.          2.68888889\n",
      " -0.4        -0.14025974 -4.54025974 -8.20612245  0.          0.          0.\n",
      "  0.          1.55        1.55974026  0.          2.25        2.45974026\n",
      " -0.25       -1.94025974  5.65974026  0.6         0.61176471 -1.24025974\n",
      " -0.58823529  1.09387755  1.79387755  4.49387755  3.35974026 -0.10612245\n",
      "  0.29387755  1.89387755  1.15        2.55974026  2.29387755  2.05974026\n",
      "  0.15       -0.6        -0.55        0.95        0.25        0.04285714\n",
      "  1.04285714 -1.05714286  0.54285714  0.84285714  0.          5.35974026\n",
      "  0.99387755 -6.30612245  4.35974026  0.85        1.79387755  0.39387755\n",
      " -1.70612245  1.99387755  0.79387755  6.29387755  0.          0.6         1.05\n",
      "  0.         -2.2875      0.         -3.1875     -0.65       -2.16666667\n",
      "  1.05974026  0.93333333  0.         -3.15       -4.16666667  0.          0.\n",
      "  0.          0.          0.          0.          0.          0.          0.\n",
      " -2.43333333 -1.83333333 -1.63333333  1.26666667  0.          0.56666667\n",
      "  0.16666667 -0.83333333 -0.06666667  1.53333333  0.          0.\n",
      " -1.46666667 -0.03333333 -1.475       0.          1.76666667  0.          0.\n",
      "  0.          1.125       5.125       0.          0.          0.\n",
      "  4.26666667 -0.63333333  0.          0.          0.         -0.43333333\n",
      "  0.          0.          0.          0.          0.          0.          0.\n",
      "  0.          0.          0.          0.          0.          0.          0.\n",
      "  3.53333333  0.3         0.          0.          0.          0.          0.\n",
      "  0.          1.96666667 -0.05        0.35        0.          0.41        0.\n",
      " -1.93333333  0.          0.          0.         -1.33333333  0.96666667\n",
      " -2.65       -4.775       0.          0.66666667  0.         -0.19        1.85\n",
      "  0.          1.71        0.         -0.49        0.3         0.          0.\n",
      "  0.61        0.          0.         -0.19       -0.5875     -1.69        1.7125\n",
      " -0.0875      1.65974026 -0.98823529  0.51176471  0.          0.          0.\n",
      "  0.31176471  0.         -0.1875     -2.78823529 -7.94025974  0.65        0.1\n",
      " -0.3        -0.53333333 -0.15       -0.3        -1.14025974  0.65       -0.65\n",
      "  0.05974026  0.          0.65974026  0.3125      1.25974026 -0.8         0.\n",
      "  0.          0.8        -0.6875      0.05974026 -1.15        0.\n",
      " -0.63333333  2.11176471 -0.78823529  2.91176471  2.6125     -0.54025974\n",
      "  1.25974026  0.45        2.35        0.        ]\n"
     ]
    }
   ],
   "source": [
    "print(res - target)"
   ]
  }
 ],
 "metadata": {
  "kernelspec": {
   "display_name": "Python 3",
   "language": "python",
   "name": "python3"
  },
  "language_info": {
   "codemirror_mode": {
    "name": "ipython",
    "version": 3
   },
   "file_extension": ".py",
   "mimetype": "text/x-python",
   "name": "python",
   "nbconvert_exporter": "python",
   "pygments_lexer": "ipython3",
   "version": "3.5.1"
  }
 },
 "nbformat": 4,
 "nbformat_minor": 0
}
