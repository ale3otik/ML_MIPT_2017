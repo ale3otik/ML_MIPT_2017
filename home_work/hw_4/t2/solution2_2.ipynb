{
 "cells": [
  {
   "cell_type": "code",
   "execution_count": 8,
   "metadata": {
    "collapsed": true
   },
   "outputs": [],
   "source": [
    "import numpy as np\n",
    "import matplotlib.pyplot as pyplot\n",
    "import scipy.stats as sps\n",
    "from sklearn.cross_validation import cross_val_score\n",
    "from sklearn.metrics import accuracy_score\n",
    "from sklearn.linear_model import LogisticRegression\n",
    "import pandas as pd\n",
    "import scipy.sparse as sprs\n",
    "from sklearn.feature_extraction.text import CountVectorizer\n",
    "%matplotlib inline"
   ]
  },
  {
   "cell_type": "code",
   "execution_count": 9,
   "metadata": {
    "collapsed": false
   },
   "outputs": [],
   "source": [
    "FORMS = ['V','N','A']\n",
    "def fftransform(y):\n",
    "    for i in range(3):\n",
    "        if y == FORMS[i]:\n",
    "            return i\n",
    "def ffrevesetransform(y):\n",
    "    return FORMS[y]"
   ]
  },
  {
   "cell_type": "code",
   "execution_count": 10,
   "metadata": {
    "collapsed": false
   },
   "outputs": [],
   "source": [
    "file = open(\"task2_lemmas_train\",'r')\n",
    "train_x = []\n",
    "train_y1 = []\n",
    "train_y2 = []\n",
    "for line in file:\n",
    "    line = line[:-1]\n",
    "    words = line.split(',')\n",
    "    x = words[1]\n",
    "    y_arr = words[2:]\n",
    "    for y in y_arr:\n",
    "        train_x.append(x)\n",
    "        train_y1.append(y.split('+')[0])\n",
    "        train_y2.append(fftransform(y.split('+')[1]))\n",
    "file.close()\n",
    "test_data = list((pd.read_csv(\"task2_lemmas_test\"))['X'])"
   ]
  },
  {
   "cell_type": "markdown",
   "metadata": {},
   "source": [
    "## TRAIN"
   ]
  },
  {
   "cell_type": "code",
   "execution_count": 11,
   "metadata": {
    "collapsed": false
   },
   "outputs": [],
   "source": [
    "vectorizer = CountVectorizer(min_df=2,max_df=.9,\n",
    "                             max_features=None, ngram_range=(2,10),\n",
    "                             lowercase=True,analyzer='char_wb',\n",
    "                             binary=False)\n",
    "vectorizer.fit(train_x)\n",
    "features = vectorizer.transform(train_x)"
   ]
  },
  {
   "cell_type": "code",
   "execution_count": 12,
   "metadata": {
    "collapsed": false
   },
   "outputs": [
    {
     "name": "stdout",
     "output_type": "stream",
     "text": [
      "CPU times: user 4min 12s, sys: 2.57 s, total: 4min 14s\n",
      "Wall time: 2min 9s\n"
     ]
    }
   ],
   "source": [
    "%%time\n",
    "regressor_type = LogisticRegression(penalty='l2',\n",
    "                               class_weight='balanced',\n",
    "                               max_iter=800,\n",
    "                               n_jobs=4,\n",
    "                               multi_class='ovr',\n",
    "                               C=20)\n",
    "regressor_type.fit(features,train_y2)"
   ]
  },
  {
   "cell_type": "code",
   "execution_count": 17,
   "metadata": {
    "collapsed": false
   },
   "outputs": [
    {
     "name": "stdout",
     "output_type": "stream",
     "text": [
      "[ 0.95784119  0.95736867  0.95930319]\n",
      "CPU times: user 692 ms, sys: 202 ms, total: 895 ms\n",
      "Wall time: 1min 37s\n"
     ]
    }
   ],
   "source": [
    "# %%time \n",
    "# print(cross_val_score(regressor_type,features,train_y2,scoring='accuracy',n_jobs=4))"
   ]
  },
  {
   "cell_type": "code",
   "execution_count": 13,
   "metadata": {
    "collapsed": true
   },
   "outputs": [],
   "source": [
    "def build_train_classes(X,Y):\n",
    "    classes = []\n",
    "    for i in range(len(X)):\n",
    "        form = X[i]\n",
    "        inf = Y[i]\n",
    "        pos = 0\n",
    "        for j in range(min(len(form),len(inf))):\n",
    "            pos = j+1\n",
    "            if form[j] != inf[j]:\n",
    "                pos -= 1\n",
    "                break \n",
    "        a = \"\"\n",
    "        if pos < len(form):\n",
    "            a = form[pos:]\n",
    "        b = \"\"\n",
    "        if pos < len(inf):\n",
    "            b = inf[pos:]\n",
    "        classes.append(str(len(a))+','+ b)\n",
    "    return classes"
   ]
  },
  {
   "cell_type": "code",
   "execution_count": 14,
   "metadata": {
    "collapsed": true
   },
   "outputs": [],
   "source": [
    "def split_into_form_clusters(X,Y,is_need_ids=False):\n",
    "    xclasses = [[],[],[]]\n",
    "    ids = [[],[],[]]\n",
    "    for i in range(len(X)):\n",
    "        xclasses[Y[i]].append(X[i])\n",
    "        if is_need_ids:\n",
    "            ids[Y[i]].append(i)\n",
    "    if is_need_ids:\n",
    "        return xclasses,ids\n",
    "    return xclasses"
   ]
  },
  {
   "cell_type": "code",
   "execution_count": 15,
   "metadata": {
    "collapsed": false
   },
   "outputs": [],
   "source": [
    "xclasses_train, ids_train = split_into_form_clusters(train_x,train_y2,is_need_ids=True)\n",
    "yclasses_train = split_into_form_clusters(train_y1,train_y2)\n",
    "featuresclasses_train = [vectorizer.transform(xclasses_train[i]) for i in range(3)]\n",
    "classes_train = [build_train_classes(xclasses_train[i],yclasses_train[i])for i in range(3)]"
   ]
  },
  {
   "cell_type": "code",
   "execution_count": 16,
   "metadata": {
    "collapsed": false
   },
   "outputs": [
    {
     "name": "stdout",
     "output_type": "stream",
     "text": [
      "CPU times: user 46min 25s, sys: 36.1 s, total: 47min 1s\n",
      "Wall time: 23min 49s\n"
     ]
    }
   ],
   "source": [
    "%%time\n",
    "regressor_form = [LogisticRegression(penalty='l2',\n",
    "                               class_weight='balanced',\n",
    "                               max_iter=800,\n",
    "                               n_jobs=4,\n",
    "                               multi_class='ovr', C=3) for i in range(3)]\n",
    "for i in range(3):\n",
    "    regressor_form[i].fit(featuresclasses_train[i],classes_train[i])"
   ]
  },
  {
   "cell_type": "code",
   "execution_count": 17,
   "metadata": {
    "collapsed": false
   },
   "outputs": [
    {
     "name": "stdout",
     "output_type": "stream",
     "text": [
      "CPU times: user 51min 41s, sys: 36.2 s, total: 52min 17s\n",
      "Wall time: 26min 23s\n"
     ]
    }
   ],
   "source": [
    "%%time\n",
    "regressor_form2 = [LogisticRegression(penalty='l2',\n",
    "                               class_weight='balanced',\n",
    "                               max_iter=800,\n",
    "                               n_jobs=4,\n",
    "                               multi_class='ovr', C=20) for i in range(3)]\n",
    "for i in range(3):\n",
    "    regressor_form2[i].fit(featuresclasses_train[i],classes_train[i])"
   ]
  },
  {
   "cell_type": "markdown",
   "metadata": {},
   "source": [
    "## TEST"
   ]
  },
  {
   "cell_type": "code",
   "execution_count": 19,
   "metadata": {
    "collapsed": true
   },
   "outputs": [],
   "source": [
    "features_test = vectorizer.transform(test_data)\n",
    "types = regressor_type.predict(features_test)\n",
    "# type_probs = regressor_type.predict_proba(features_test)"
   ]
  },
  {
   "cell_type": "code",
   "execution_count": 113,
   "metadata": {
    "collapsed": false
   },
   "outputs": [],
   "source": [
    "form_prediction_probs = []\n",
    "for i in range(3):\n",
    "    form_prediction_probs.append(regressor_form[i].predict_proba(features_test))"
   ]
  },
  {
   "cell_type": "code",
   "execution_count": 114,
   "metadata": {
    "collapsed": false
   },
   "outputs": [],
   "source": [
    "classes_probs = [[np.max(form_prediction_probs[j][i]) * type_probs[i][j] for j in range(3)]\n",
    "                 for i in range(len(test_data))]\n",
    "classes_ids = [[np.argmax(form_prediction_probs[j][i]) for j in range(3)]\n",
    "                 for i in range(len(test_data))]\n"
   ]
  },
  {
   "cell_type": "code",
   "execution_count": 115,
   "metadata": {
    "collapsed": false
   },
   "outputs": [],
   "source": [
    "chosen_classes = []\n",
    "for i in range(len(test_data)):\n",
    "    chosen_classes.append([])\n",
    "    probs = classes_probs[i]\n",
    "    is_class_found = False\n",
    "    for j in range(3):\n",
    "        if probs[j] > 0.3 :\n",
    "            chosen_classes[i].append([j,classes_train[j][classes_ids[i][j]]])\n",
    "            is_class_found = True\n",
    "    if not is_class_found:\n",
    "        type_id = np.argmax(type_probs[i])\n",
    "        class_id = np.argmax(classes_probs[i][type_id])\n",
    "        chosen_classes[i].append([type_id,classes_train[type_id][class_id]])"
   ]
  },
  {
   "cell_type": "code",
   "execution_count": 88,
   "metadata": {
    "collapsed": false
   },
   "outputs": [
    {
     "name": "stdout",
     "output_type": "stream",
     "text": [
      "672\n"
     ]
    }
   ],
   "source": [
    "print(sum(len(c) > 1  for c in chosen_classes))"
   ]
  },
  {
   "cell_type": "code",
   "execution_count": 89,
   "metadata": {
    "collapsed": false
   },
   "outputs": [],
   "source": [
    "answer = []\n",
    "for i in range(len(test_data)):\n",
    "    answer.append('')\n",
    "    for c in chosen_classes[i]:\n",
    "        w = build_ans_word(test_data[i],c[1],c[0])\n",
    "        if len(answer[i]) != 0:\n",
    "            answer[i] += ','\n",
    "        answer[i] += w "
   ]
  },
  {
   "cell_type": "code",
   "execution_count": null,
   "metadata": {
    "collapsed": false
   },
   "outputs": [],
   "source": []
  },
  {
   "cell_type": "markdown",
   "metadata": {},
   "source": [
    "### clusters classification"
   ]
  },
  {
   "cell_type": "code",
   "execution_count": 20,
   "metadata": {
    "collapsed": false
   },
   "outputs": [],
   "source": [
    "test_xclusters, test_ids = split_into_form_clusters(test_data,types,is_need_ids=True)\n",
    "test_featuresclasses = [vectorizer.transform(test_xclusters[i]) for i in range(3)]\n",
    "form_prediction_classes = []\n",
    "for i in range(3):\n",
    "    form_prediction_classes.append(regressor_form[i].predict(test_featuresclasses[i]))"
   ]
  },
  {
   "cell_type": "code",
   "execution_count": 21,
   "metadata": {
    "collapsed": true
   },
   "outputs": [],
   "source": [
    "def build_ans_word(w,res,ftype):\n",
    "    a = res.split(',')\n",
    "    toslice = int(a[0])\n",
    "    toappend = a[1]\n",
    "    return w[0:len(w) - toslice] + toappend + '+' + ffrevesetransform(ftype)"
   ]
  },
  {
   "cell_type": "code",
   "execution_count": 22,
   "metadata": {
    "collapsed": true
   },
   "outputs": [],
   "source": [
    "def build_answer(X,res,ftype):\n",
    "    ans = []\n",
    "    for i in range(len(res)):\n",
    "        x = res[i]\n",
    "        a = x.split(',')\n",
    "        toslice = int(a[0])\n",
    "        toappend = a[1]\n",
    "        w = X[i]\n",
    "        ans.append(w[0:len(w) - toslice] + toappend + '+' + ffrevesetransform(ftype))\n",
    "    return ans"
   ]
  },
  {
   "cell_type": "code",
   "execution_count": 23,
   "metadata": {
    "collapsed": false
   },
   "outputs": [],
   "source": [
    "results = [build_answer(test_xclusters[i],form_prediction_classes[i],i) for i in range(3)]"
   ]
  },
  {
   "cell_type": "code",
   "execution_count": 24,
   "metadata": {
    "collapsed": false
   },
   "outputs": [],
   "source": [
    "answer = []\n",
    "ans_ids = []\n",
    "for i in range(3):\n",
    "    for j in range(len(results[i])):\n",
    "        answer.append(results[i][j])\n",
    "        ans_ids.append(test_ids[i][j]+1)"
   ]
  },
  {
   "cell_type": "markdown",
   "metadata": {},
   "source": [
    "## OUT"
   ]
  },
  {
   "cell_type": "code",
   "execution_count": 91,
   "metadata": {
    "collapsed": true
   },
   "outputs": [],
   "source": [
    "f = open(\"submission_hand.txt\",\"w\")\n",
    "for i in range(len(answer)):\n",
    "    f.write(str(i+1) + ',' + answer[i] + '\\n')\n",
    "f.close()"
   ]
  },
  {
   "cell_type": "code",
   "execution_count": 25,
   "metadata": {
    "collapsed": false
   },
   "outputs": [
    {
     "data": {
      "text/html": [
       "<div>\n",
       "<table border=\"1\" class=\"dataframe\">\n",
       "  <thead>\n",
       "    <tr style=\"text-align: right;\">\n",
       "      <th></th>\n",
       "      <th>Id</th>\n",
       "      <th>Category</th>\n",
       "    </tr>\n",
       "  </thead>\n",
       "  <tbody>\n",
       "    <tr>\n",
       "      <th>0</th>\n",
       "      <td>1</td>\n",
       "      <td>gettonare+V</td>\n",
       "    </tr>\n",
       "    <tr>\n",
       "      <th>1</th>\n",
       "      <td>3</td>\n",
       "      <td>involtare+V</td>\n",
       "    </tr>\n",
       "    <tr>\n",
       "      <th>2</th>\n",
       "      <td>5</td>\n",
       "      <td>comunistizzare+V</td>\n",
       "    </tr>\n",
       "    <tr>\n",
       "      <th>3</th>\n",
       "      <td>6</td>\n",
       "      <td>vidimare+V</td>\n",
       "    </tr>\n",
       "    <tr>\n",
       "      <th>4</th>\n",
       "      <td>7</td>\n",
       "      <td>imbrodare+V</td>\n",
       "    </tr>\n",
       "    <tr>\n",
       "      <th>5</th>\n",
       "      <td>8</td>\n",
       "      <td>strillare+V</td>\n",
       "    </tr>\n",
       "    <tr>\n",
       "      <th>6</th>\n",
       "      <td>9</td>\n",
       "      <td>cifrare+V</td>\n",
       "    </tr>\n",
       "    <tr>\n",
       "      <th>7</th>\n",
       "      <td>10</td>\n",
       "      <td>compassare+V</td>\n",
       "    </tr>\n",
       "    <tr>\n",
       "      <th>8</th>\n",
       "      <td>11</td>\n",
       "      <td>cuciare+V</td>\n",
       "    </tr>\n",
       "    <tr>\n",
       "      <th>9</th>\n",
       "      <td>12</td>\n",
       "      <td>snobbare+V</td>\n",
       "    </tr>\n",
       "  </tbody>\n",
       "</table>\n",
       "</div>"
      ],
      "text/plain": [
       "   Id          Category\n",
       "0   1       gettonare+V\n",
       "1   3       involtare+V\n",
       "2   5  comunistizzare+V\n",
       "3   6        vidimare+V\n",
       "4   7       imbrodare+V\n",
       "5   8       strillare+V\n",
       "6   9         cifrare+V\n",
       "7  10      compassare+V\n",
       "8  11         cuciare+V\n",
       "9  12        snobbare+V"
      ]
     },
     "execution_count": 25,
     "metadata": {},
     "output_type": "execute_result"
    }
   ],
   "source": [
    "submission = pd.read_csv(\"task2_lemmas_sample_submission\")\n",
    "submission['Id'] = ans_ids\n",
    "# submission['Id'] = np.arange(1,len(answer)+1)\n",
    "submission['Category'] = answer\n",
    "submission.to_csv(\"submission.txt\", sep=',', index=False)\n",
    "submission.head(10)"
   ]
  },
  {
   "cell_type": "markdown",
   "metadata": {},
   "source": [
    "## RESEARCH"
   ]
  },
  {
   "cell_type": "code",
   "execution_count": 152,
   "metadata": {
    "collapsed": false
   },
   "outputs": [
    {
     "name": "stdout",
     "output_type": "stream",
     "text": [
      "120897\n",
      "29661\n"
     ]
    },
    {
     "data": {
      "text/plain": [
       "29661"
      ]
     },
     "execution_count": 152,
     "metadata": {},
     "output_type": "execute_result"
    }
   ],
   "source": [
    "source = set()\n",
    "cnt = 0\n",
    "print(len(train_x))\n",
    "print(len(test_data))\n",
    "for x in train_x:\n",
    "    source.add(x)\n",
    "for x in test_data:\n",
    "    if x not in source:\n",
    "        cnt += 1\n",
    "cnt"
   ]
  },
  {
   "cell_type": "code",
   "execution_count": 3,
   "metadata": {
    "collapsed": false
   },
   "outputs": [],
   "source": [
    "test_subm = list(pd.read_csv(\"submission_test.txt\")['Category'])\n",
    "new_subm = list(pd.read_csv(\"submission.txt\")['Category'])"
   ]
  },
  {
   "cell_type": "code",
   "execution_count": 7,
   "metadata": {
    "collapsed": false
   },
   "outputs": [
    {
     "data": {
      "text/plain": [
       "0.99345942483395699"
      ]
     },
     "execution_count": 7,
     "metadata": {},
     "output_type": "execute_result"
    }
   ],
   "source": [
    "accuracy_score(test_subm,new_subm)"
   ]
  }
 ],
 "metadata": {
  "kernelspec": {
   "display_name": "Python 3",
   "language": "python",
   "name": "python3"
  },
  "language_info": {
   "codemirror_mode": {
    "name": "ipython",
    "version": 3
   },
   "file_extension": ".py",
   "mimetype": "text/x-python",
   "name": "python",
   "nbconvert_exporter": "python",
   "pygments_lexer": "ipython3",
   "version": "3.5.1"
  }
 },
 "nbformat": 4,
 "nbformat_minor": 0
}
