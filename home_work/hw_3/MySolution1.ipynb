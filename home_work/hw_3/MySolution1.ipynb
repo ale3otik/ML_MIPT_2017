{
 "cells": [
  {
   "cell_type": "code",
   "execution_count": 199,
   "metadata": {
    "collapsed": false
   },
   "outputs": [],
   "source": [
    "from sklearn import tree\n",
    "from sklearn.ensemble import RandomForestRegressor\n",
    "import numpy as np\n",
    "import matplotlib.pyplot as plt\n",
    "%matplotlib inline"
   ]
  },
  {
   "cell_type": "code",
   "execution_count": 110,
   "metadata": {
    "collapsed": false
   },
   "outputs": [
    {
     "name": "stdout",
     "output_type": "stream",
     "text": [
      "72457\n",
      "2016\n"
     ]
    }
   ],
   "source": [
    "import pandas as pd\n",
    "\n",
    "train_data = pd.read_csv(\"train.tsv\")\n",
    "test_data = pd.read_csv(\"test.tsv\")\n",
    "sample_submission = pd.read_csv(\"sample_submission.tsv\")\n",
    "print(len(train_data))\n",
    "print(len(test))"
   ]
  },
  {
   "cell_type": "code",
   "execution_count": 161,
   "metadata": {
    "collapsed": false
   },
   "outputs": [
    {
     "name": "stdout",
     "output_type": "stream",
     "text": [
      "36228 36228\n"
     ]
    }
   ],
   "source": [
    "frac = 0.5 # fraction of learning examples used for model fitting\n",
    "\n",
    "# sample the train set if your don't want to deel with all examples\n",
    "test = test_data.drop(['Num'], axis=1).as_matrix()\n",
    "test_without_id = test_data.drop(['Num','item_id'], axis=1).as_matrix()\n",
    "train = train_data.sample(frac=frac, random_state=42)\n",
    "X_df = train.drop(['Num','y','item_id'], axis=1)\n",
    "y_df = train['y']\n",
    "\n",
    "\n",
    "X = X_df.as_matrix()\n",
    "y = y_df.as_matrix()\n",
    "\n",
    "print(len(X), len(y))"
   ]
  },
  {
   "cell_type": "code",
   "execution_count": 149,
   "metadata": {
    "collapsed": false
   },
   "outputs": [
    {
     "data": {
      "text/html": [
       "<div>\n",
       "<table border=\"1\" class=\"dataframe\">\n",
       "  <thead>\n",
       "    <tr style=\"text-align: right;\">\n",
       "      <th></th>\n",
       "      <th>Num</th>\n",
       "      <th>y</th>\n",
       "      <th>year</th>\n",
       "      <th>week</th>\n",
       "      <th>shift</th>\n",
       "      <th>item_id</th>\n",
       "      <th>f1</th>\n",
       "      <th>f2</th>\n",
       "      <th>f3</th>\n",
       "      <th>f4</th>\n",
       "      <th>...</th>\n",
       "      <th>f51</th>\n",
       "      <th>f52</th>\n",
       "      <th>f53</th>\n",
       "      <th>f54</th>\n",
       "      <th>f55</th>\n",
       "      <th>f56</th>\n",
       "      <th>f57</th>\n",
       "      <th>f58</th>\n",
       "      <th>f59</th>\n",
       "      <th>f60</th>\n",
       "    </tr>\n",
       "  </thead>\n",
       "  <tbody>\n",
       "    <tr>\n",
       "      <th>0</th>\n",
       "      <td>0</td>\n",
       "      <td>123438</td>\n",
       "      <td>2012</td>\n",
       "      <td>52</td>\n",
       "      <td>1</td>\n",
       "      <td>20442076</td>\n",
       "      <td>4915</td>\n",
       "      <td>38056</td>\n",
       "      <td>40185</td>\n",
       "      <td>45733</td>\n",
       "      <td>...</td>\n",
       "      <td>39423</td>\n",
       "      <td>41765</td>\n",
       "      <td>52590</td>\n",
       "      <td>31452</td>\n",
       "      <td>44420</td>\n",
       "      <td>41865</td>\n",
       "      <td>52705</td>\n",
       "      <td>36102</td>\n",
       "      <td>44163</td>\n",
       "      <td>45239</td>\n",
       "    </tr>\n",
       "    <tr>\n",
       "      <th>1</th>\n",
       "      <td>1</td>\n",
       "      <td>58410</td>\n",
       "      <td>2012</td>\n",
       "      <td>52</td>\n",
       "      <td>1</td>\n",
       "      <td>20441997</td>\n",
       "      <td>2230</td>\n",
       "      <td>18817</td>\n",
       "      <td>20110</td>\n",
       "      <td>26368</td>\n",
       "      <td>...</td>\n",
       "      <td>22830</td>\n",
       "      <td>25230</td>\n",
       "      <td>27850</td>\n",
       "      <td>21390</td>\n",
       "      <td>27090</td>\n",
       "      <td>23170</td>\n",
       "      <td>29705</td>\n",
       "      <td>19140</td>\n",
       "      <td>22055</td>\n",
       "      <td>23200</td>\n",
       "    </tr>\n",
       "    <tr>\n",
       "      <th>2</th>\n",
       "      <td>2</td>\n",
       "      <td>163930</td>\n",
       "      <td>2012</td>\n",
       "      <td>52</td>\n",
       "      <td>1</td>\n",
       "      <td>20441990</td>\n",
       "      <td>5695</td>\n",
       "      <td>47480</td>\n",
       "      <td>47619</td>\n",
       "      <td>89708</td>\n",
       "      <td>...</td>\n",
       "      <td>14930</td>\n",
       "      <td>44290</td>\n",
       "      <td>46412</td>\n",
       "      <td>29320</td>\n",
       "      <td>21140</td>\n",
       "      <td>28406</td>\n",
       "      <td>65056</td>\n",
       "      <td>31886</td>\n",
       "      <td>48750</td>\n",
       "      <td>36520</td>\n",
       "    </tr>\n",
       "    <tr>\n",
       "      <th>3</th>\n",
       "      <td>3</td>\n",
       "      <td>53902</td>\n",
       "      <td>2012</td>\n",
       "      <td>52</td>\n",
       "      <td>1</td>\n",
       "      <td>20441989</td>\n",
       "      <td>1995</td>\n",
       "      <td>17146</td>\n",
       "      <td>20066</td>\n",
       "      <td>27070</td>\n",
       "      <td>...</td>\n",
       "      <td>15120</td>\n",
       "      <td>12480</td>\n",
       "      <td>19780</td>\n",
       "      <td>7990</td>\n",
       "      <td>8230</td>\n",
       "      <td>10650</td>\n",
       "      <td>21920</td>\n",
       "      <td>13040</td>\n",
       "      <td>9780</td>\n",
       "      <td>9630</td>\n",
       "    </tr>\n",
       "    <tr>\n",
       "      <th>4</th>\n",
       "      <td>4</td>\n",
       "      <td>105970</td>\n",
       "      <td>2012</td>\n",
       "      <td>52</td>\n",
       "      <td>1</td>\n",
       "      <td>20441988</td>\n",
       "      <td>6515</td>\n",
       "      <td>49262</td>\n",
       "      <td>50045</td>\n",
       "      <td>95167</td>\n",
       "      <td>...</td>\n",
       "      <td>18872</td>\n",
       "      <td>19328</td>\n",
       "      <td>37168</td>\n",
       "      <td>13570</td>\n",
       "      <td>19760</td>\n",
       "      <td>20208</td>\n",
       "      <td>34745</td>\n",
       "      <td>18442</td>\n",
       "      <td>24700</td>\n",
       "      <td>21793</td>\n",
       "    </tr>\n",
       "  </tbody>\n",
       "</table>\n",
       "<p>5 rows × 66 columns</p>\n",
       "</div>"
      ],
      "text/plain": [
       "   Num       y  year  week  shift   item_id    f1     f2     f3     f4  ...    \\\n",
       "0    0  123438  2012    52      1  20442076  4915  38056  40185  45733  ...     \n",
       "1    1   58410  2012    52      1  20441997  2230  18817  20110  26368  ...     \n",
       "2    2  163930  2012    52      1  20441990  5695  47480  47619  89708  ...     \n",
       "3    3   53902  2012    52      1  20441989  1995  17146  20066  27070  ...     \n",
       "4    4  105970  2012    52      1  20441988  6515  49262  50045  95167  ...     \n",
       "\n",
       "     f51    f52    f53    f54    f55    f56    f57    f58    f59    f60  \n",
       "0  39423  41765  52590  31452  44420  41865  52705  36102  44163  45239  \n",
       "1  22830  25230  27850  21390  27090  23170  29705  19140  22055  23200  \n",
       "2  14930  44290  46412  29320  21140  28406  65056  31886  48750  36520  \n",
       "3  15120  12480  19780   7990   8230  10650  21920  13040   9780   9630  \n",
       "4  18872  19328  37168  13570  19760  20208  34745  18442  24700  21793  \n",
       "\n",
       "[5 rows x 66 columns]"
      ]
     },
     "execution_count": 149,
     "metadata": {},
     "output_type": "execute_result"
    }
   ],
   "source": [
    "train_data.head()"
   ]
  },
  {
   "cell_type": "code",
   "execution_count": 131,
   "metadata": {
    "collapsed": false
   },
   "outputs": [
    {
     "name": "stdout",
     "output_type": "stream",
     "text": [
      "      Num  year  week  shift   item_id      f1      f2      f3      f4  \\\n",
      "0  348622  2015     3      3  20447918     960     820    1128    1801   \n",
      "1  348623  2015     3      3  20447902    9086   12585   11595    9685   \n",
      "2  348624  2015     3      3  20447732  115087  147287  176065  143105   \n",
      "3  348625  2015     3      3  20443951   20900   24420   27068   20460   \n",
      "4  348626  2015     3      3  20443944    4430    5864    3310    1853   \n",
      "\n",
      "       f5   ...       f51     f52     f53     f54     f55     f56     f57  \\\n",
      "0    1045   ...      1510     580     969    1635     895    2140    1182   \n",
      "1   12917   ...     22055   14235   21195   18280   18270   15851   16920   \n",
      "2  202069   ...    302165  162232  221622  256605  240047  236630  206697   \n",
      "3   25580   ...     39055   14445   22450   22093   31175   23355   15358   \n",
      "4    2836   ...       120     130      60      30      50      20      20   \n",
      "\n",
      "      f58     f59     f60  \n",
      "0    1020    1293    1290  \n",
      "1   18320   24116   21307  \n",
      "2  245652  286179  285904  \n",
      "3   18930   29643   33970  \n",
      "4      30       0       0  \n",
      "\n",
      "[5 rows x 65 columns]\n"
     ]
    }
   ],
   "source": [
    "print(test_data.head())"
   ]
  },
  {
   "cell_type": "code",
   "execution_count": 163,
   "metadata": {
    "collapsed": false
   },
   "outputs": [
    {
     "data": {
      "text/plain": [
       "RandomForestRegressor(bootstrap=True, criterion='mse', max_depth=10,\n",
       "           max_features='auto', max_leaf_nodes=None, min_samples_leaf=1,\n",
       "           min_samples_split=2, min_weight_fraction_leaf=0.0,\n",
       "           n_estimators=50, n_jobs=1, oob_score=False, random_state=322,\n",
       "           verbose=0, warm_start=False)"
      ]
     },
     "execution_count": 163,
     "metadata": {},
     "output_type": "execute_result"
    }
   ],
   "source": [
    "regressor = RandomForestRegressor(n_estimators=50, criterion='mse', max_depth=10,random_state=322)\n",
    "regressor.fit(X,y)"
   ]
  },
  {
   "cell_type": "code",
   "execution_count": 116,
   "metadata": {
    "collapsed": false
   },
   "outputs": [],
   "source": [
    "preds = regressor.predict(test_without_id)"
   ]
  },
  {
   "cell_type": "code",
   "execution_count": 212,
   "metadata": {
    "collapsed": false
   },
   "outputs": [],
   "source": [
    "ITEM_INDEX = 3\n",
    "PREDICT_INDEX = 63\n",
    "SHIFT_INDEX = 2\n",
    "WEEK_INDEX = 1\n",
    "\n",
    "def build_dict(data):\n",
    "    goods = dict()\n",
    "    i = 0\n",
    "    for g in data:\n",
    "        if g[ITEM_INDEX] not in goods:\n",
    "            goods[g[ITEM_INDEX]] = [g]\n",
    "        else :\n",
    "            goods[g[ITEM_INDEX]].append(g)\n",
    "        i += 1\n",
    "    return goods\n",
    "\n",
    "\n",
    "def get_precise_prediction(clusters):\n",
    "    results = []\n",
    "    for i in range(len(test)):\n",
    "        results.append(preds[i])\n",
    "        clus = clusters.get(test[i][ITEM_INDEX])\n",
    "        for v in clus:\n",
    "            if v[WEEK_INDEX] - v[SHIFT_INDEX] == test[i][WEEK_INDEX] :\n",
    "                results[i] = v[PREDICT_INDEX]\n",
    "                break\n",
    "    return results "
   ]
  },
  {
   "cell_type": "code",
   "execution_count": 208,
   "metadata": {
    "collapsed": true
   },
   "outputs": [],
   "source": [
    "clusters = build_dict(test)\n",
    "result = get_precise_prediction(clusters)"
   ]
  },
  {
   "cell_type": "code",
   "execution_count": 209,
   "metadata": {
    "collapsed": false
   },
   "outputs": [],
   "source": [
    "sample_submission['y'] = preds\n",
    "sample_submission['y'] = sample_submission['y'].map(lambda x: x if x > 0 else 0.0)\n",
    "sample_submission.to_csv(\"rf3_submision.tsv\", sep=',', index=False)"
   ]
  },
  {
   "cell_type": "code",
   "execution_count": 210,
   "metadata": {
    "collapsed": false
   },
   "outputs": [
    {
     "data": {
      "text/html": [
       "<div>\n",
       "<table border=\"1\" class=\"dataframe\">\n",
       "  <thead>\n",
       "    <tr style=\"text-align: right;\">\n",
       "      <th></th>\n",
       "      <th>Num</th>\n",
       "      <th>y</th>\n",
       "    </tr>\n",
       "  </thead>\n",
       "  <tbody>\n",
       "    <tr>\n",
       "      <th>0</th>\n",
       "      <td>348622</td>\n",
       "      <td>2068.802738</td>\n",
       "    </tr>\n",
       "    <tr>\n",
       "      <th>1</th>\n",
       "      <td>348623</td>\n",
       "      <td>22776.098089</td>\n",
       "    </tr>\n",
       "    <tr>\n",
       "      <th>2</th>\n",
       "      <td>348624</td>\n",
       "      <td>290607.600941</td>\n",
       "    </tr>\n",
       "    <tr>\n",
       "      <th>3</th>\n",
       "      <td>348625</td>\n",
       "      <td>30645.157167</td>\n",
       "    </tr>\n",
       "    <tr>\n",
       "      <th>4</th>\n",
       "      <td>348626</td>\n",
       "      <td>361.887881</td>\n",
       "    </tr>\n",
       "    <tr>\n",
       "      <th>5</th>\n",
       "      <td>348627</td>\n",
       "      <td>146137.460166</td>\n",
       "    </tr>\n",
       "    <tr>\n",
       "      <th>6</th>\n",
       "      <td>348628</td>\n",
       "      <td>73109.294648</td>\n",
       "    </tr>\n",
       "    <tr>\n",
       "      <th>7</th>\n",
       "      <td>348629</td>\n",
       "      <td>71577.484614</td>\n",
       "    </tr>\n",
       "    <tr>\n",
       "      <th>8</th>\n",
       "      <td>348630</td>\n",
       "      <td>81959.405949</td>\n",
       "    </tr>\n",
       "    <tr>\n",
       "      <th>9</th>\n",
       "      <td>348631</td>\n",
       "      <td>4067.455366</td>\n",
       "    </tr>\n",
       "  </tbody>\n",
       "</table>\n",
       "</div>"
      ],
      "text/plain": [
       "      Num              y\n",
       "0  348622    2068.802738\n",
       "1  348623   22776.098089\n",
       "2  348624  290607.600941\n",
       "3  348625   30645.157167\n",
       "4  348626     361.887881\n",
       "5  348627  146137.460166\n",
       "6  348628   73109.294648\n",
       "7  348629   71577.484614\n",
       "8  348630   81959.405949\n",
       "9  348631    4067.455366"
      ]
     },
     "execution_count": 210,
     "metadata": {},
     "output_type": "execute_result"
    }
   ],
   "source": [
    "sample_submission.head(10)"
   ]
  },
  {
   "cell_type": "code",
   "execution_count": 195,
   "metadata": {
    "collapsed": false
   },
   "outputs": [],
   "source": [
    "# def check():\n",
    "#     y = train['y']\n",
    "#     ids = train['item_id']\n",
    "#     f60 = train['f60']\n",
    "#     for i in range(len(y)):\n",
    "#         if ids[i] == 20449792:\n",
    "            \n",
    "# check()"
   ]
  },
  {
   "cell_type": "code",
   "execution_count": 202,
   "metadata": {
    "collapsed": false
   },
   "outputs": [
    {
     "name": "stdout",
     "output_type": "stream",
     "text": [
      "20910.9032258 13688.2799371\n",
      "12534.7096774 8802.51713704\n"
     ]
    },
    {
     "name": "stderr",
     "output_type": "stream",
     "text": [
      "/Users/alex/anaconda/lib/python3.5/site-packages/pandas/core/frame.py:1997: UserWarning: Boolean Series key will be reindexed to match DataFrame index.\n",
      "  \"DataFrame index.\", UserWarning)\n"
     ]
    },
    {
     "data": {
      "image/png": "[encoded data removed]",
      "text/plain": [
       "<matplotlib.figure.Figure at 0x1195bb748>"
      ]
     },
     "metadata": {},
     "output_type": "display_data"
    }
   ],
   "source": [
    "def get_times(fr):\n",
    "    return np.array(fr['year'])*53 + (np.array(fr['week']) - 1) + np.array(fr['shift'])\n",
    "\n",
    "def get_real_times(fr):\n",
    "    return np.array(fr['year'])*53 + (np.array(fr['week']) - 1)\n",
    "\n",
    "def print_cluster_field(train,_id,field='y',time_shift=1,norm=True,offset=0):\n",
    "    trainC = train[train['item_id'] == _id][train['shift'] == time_shift]\n",
    "#     trainC[('year','week','shift')].head()\n",
    "    data = np.array(trainC[field])\n",
    "    print(np.mean(data), np.std(data))\n",
    "    if norm:\n",
    "        data = (data - np.mean(data))/np.std(data)\n",
    "    timeC = get_real_times(trainC)\n",
    "    prepared = []\n",
    "#     print(len(np.unique(timeC)), len(timeC))\n",
    "    for i in range(len(timeC)):\n",
    "        prepared.append((timeC[i],data[i]))\n",
    "#     prepared = np.array(prepared)\n",
    "    prepared = np.array(sorted(prepared))\n",
    "    ox = prepared[:,0]\n",
    "    oy = prepared[:,1]\n",
    "    plt.plot(ox-offset,oy,label=field)\n",
    "print_cluster_field(train_data,20449792)\n",
    "print_cluster_field(train_data,20449792,field='f60')"
   ]
  }
 ],
 "metadata": {
  "kernelspec": {
   "display_name": "Python 3",
   "language": "python",
   "name": "python3"
  },
  "language_info": {
   "codemirror_mode": {
    "name": "ipython",
    "version": 3
   },
   "file_extension": ".py",
   "mimetype": "text/x-python",
   "name": "python",
   "nbconvert_exporter": "python",
   "pygments_lexer": "ipython3",
   "version": "3.5.1"
  }
 },
 "nbformat": 4,
 "nbformat_minor": 0
}
