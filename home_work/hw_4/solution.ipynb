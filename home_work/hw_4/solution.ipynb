{
 "cells": [
  {
   "cell_type": "code",
   "execution_count": 54,
   "metadata": {
    "collapsed": false
   },
   "outputs": [],
   "source": [
    "import numpy as np\n",
    "import matplotlib.pyplot as pyplot\n",
    "import scipy.stats as sps\n",
    "from sklearn.metrics import roc_auc_score\n",
    "# from sklearn.linear_model import LinearRegression\n",
    "from sklearn.cross_validation import cross_val_score\n",
    "from sklearn.linear_model import LogisticRegression\n",
    "from sklearn.svm import SVR\n",
    "from sklearn.svm import LinearSVC\n",
    "from sklearn.svm import LinearSVR\n",
    "import pandas as pd\n",
    "%matplotlib inline"
   ]
  },
  {
   "cell_type": "code",
   "execution_count": 267,
   "metadata": {
    "collapsed": false
   },
   "outputs": [
    {
     "name": "stdout",
     "output_type": "stream",
     "text": [
      "['АБН', 'своенравием', 'Равноденствия', 'ногтю', 'гренадеру', 'воспрещении', 'Обвал', 'Депозиту', 'Минимуществу', 'застройщику']\n",
      "[0, 0, 0, 0, 0, 0, 0, 0, 0, 0]\n",
      "['Аалто', 'ААР', 'Аара', 'Ааре', 'Аарон', 'Аароне', 'Ааронов', 'Аароном', 'Аароном', 'Аарону']\n"
     ]
    }
   ],
   "source": [
    "train_data = pd.read_csv(\"linear_train.txt\",names=['x','y'])\n",
    "test_data = pd.read_csv(\"linear_test.txt\",names=['x'])\n",
    "test_data = list(test_data['x'])\n",
    "train_xx = list(train_data['x'])\n",
    "train_yy = list(train_data['y'])\n",
    "print(train_x[0:10])\n",
    "print(train_y[0:10])\n",
    "print(test_data[0:10])\n",
    "indices = len(train_xx) * sps.uniform.rvs(size=len(train_xx)/4)\n",
    "indices = [int(x) for x in indices]\n",
    "train_x = [train_xx[i] for i in indices]\n",
    "train_y = [train_yy[i] for i in indices]\n",
    "# test_data = [test_data[i] for i in np.arange(0,len(test_data),100)]"
   ]
  },
  {
   "cell_type": "code",
   "execution_count": 256,
   "metadata": {
    "collapsed": false
   },
   "outputs": [
    {
     "name": "stdout",
     "output_type": "stream",
     "text": [
      "10638\n",
      "90770\n"
     ]
    }
   ],
   "source": [
    "print(sum(y == 1 for y in train_y))\n",
    "print(sum(y == 0 for y in train_y))"
   ]
  },
  {
   "cell_type": "code",
   "execution_count": 268,
   "metadata": {
    "collapsed": false
   },
   "outputs": [],
   "source": [
    "#########FEATURES############\n",
    "KK = 5\n",
    "reward = [0.0,2.6,3,5,6]\n",
    "pen = [0.0,0.1,0.2,0.5,0.5]\n",
    "def build_statistic(X,Y):\n",
    "    all_dicts = [dict() for i in range(KK)]\n",
    "    for i in range(len(X)):\n",
    "        for k in range(KK):\n",
    "            if Y[i] == 1:\n",
    "                if len(X[i]) > k:\n",
    "                    if X[i][-k-1:] not in all_dicts[k]:\n",
    "                        all_dicts[k][X[i][-k-1:]] = 0\n",
    "                    all_dicts[k][X[i][-k-1:]] += reward[k]\n",
    "            else :\n",
    "                if len(X[i]) > k:\n",
    "                    if X[i][-k-1:] not in all_dicts[k]:\n",
    "                        all_dicts[k][X[i][-k-1:]] = 0\n",
    "                    all_dicts[k][X[i][-k-1:]] -= pen[k]\n",
    "    for d in all_dicts:\n",
    "        for x in d:\n",
    "            qnt = np.sum(Y)\n",
    "            d[x] /= (np.sqrt(qnt)/4)\n",
    "    return all_dicts\n",
    "ending_dicts = build_statistic(train_x, train_y)\n",
    "\n",
    "##################################################\n",
    "def is_upper_first(w):\n",
    "    return int(w[0].isupper())\n",
    "def number_of_upper(w):\n",
    "    return sum(x.isupper() for x in w)\n",
    "def symbol_statistic(w):\n",
    "    count = dict()\n",
    "    for x in alp:\n",
    "        count[x] = 0\n",
    "    for x in w:\n",
    "        if x in count :\n",
    "            count[x] += 1\n",
    "    return [count[k]/len(w) for k in count]\n",
    "def num_of_trash(w):\n",
    "    return len(w) - sum(x.isalpha() for x in w)\n",
    "\n",
    "def ending_score(w,k):\n",
    "    if len(w) < k:\n",
    "        return 0\n",
    "    if w[-k-1:] in ending_dicts[k]:\n",
    "        return ending_dicts[k][w[-k-1:]]\n",
    "    return 0\n",
    "    "
   ]
  },
  {
   "cell_type": "code",
   "execution_count": 269,
   "metadata": {
    "collapsed": false
   },
   "outputs": [],
   "source": [
    "def get_features(w):\n",
    "    if type(w) != str:\n",
    "        w = w[0]\n",
    "    result = []\n",
    "    result.append(is_upper_first(w))\n",
    "    result.append(len(w))\n",
    "    result.append(number_of_upper(w))\n",
    "    result.append(num_of_trash(w))\n",
    "    for k in range(1,KK):\n",
    "        result.append(ending_score(w,k))\n",
    "###########SYMBOL STATISITICS##########\n",
    "#     qnt = symbol_statistic(w)\n",
    "#     for x in qnt:\n",
    "#         result.append(x)\n",
    "######################################\n",
    "    return result\n",
    "def get_features_for_data(data):\n",
    "    return [get_features(w) for w in data]"
   ]
  },
  {
   "cell_type": "code",
   "execution_count": 270,
   "metadata": {
    "collapsed": false
   },
   "outputs": [
    {
     "name": "stdout",
     "output_type": "stream",
     "text": [
      "[ 0.87688215  0.87162514  0.85010552]\n",
      "0.866708646293\n"
     ]
    }
   ],
   "source": [
    "features = get_features_for_data(train_xx)\n",
    "regressor = LogisticRegression(penalty='l1',class_weight='balanced',max_iter=300)\n",
    "print(cross_val_score(regressor,features,train_yy,scoring='roc_auc'))\n",
    "regressor.fit(features,train_yy)\n",
    "y_check_both = regressor.predict_proba(features)\n",
    "y_check = [y[1] for y in y_check_both]\n",
    "# print(regressor.score(features,train_y))\n",
    "print(roc_auc_score(train_yy,y_check))"
   ]
  },
  {
   "cell_type": "code",
   "execution_count": 261,
   "metadata": {
    "collapsed": false
   },
   "outputs": [
    {
     "name": "stdout",
     "output_type": "stream",
     "text": [
      "[[ 0.27365929  0.72634071]\n",
      " [ 0.29089163  0.70910837]\n",
      " [ 0.2252504   0.7747496 ]\n",
      " [ 0.24665399  0.75334601]\n",
      " [ 0.26680001  0.73319999]\n",
      " [ 0.23358619  0.76641381]\n",
      " [ 0.18479337  0.81520663]\n",
      " [ 0.12480818  0.87519182]\n",
      " [ 0.12480818  0.87519182]\n",
      " [ 0.17613924  0.82386076]\n",
      " [ 0.17613924  0.82386076]\n",
      " [ 0.27215903  0.72784097]\n",
      " [ 0.29089654  0.70910346]\n",
      " [ 0.1210397   0.8789603 ]\n",
      " [ 0.22949638  0.77050362]\n",
      " [ 0.30528369  0.69471631]\n",
      " [ 0.28773346  0.71226654]\n",
      " [ 0.04419809  0.95580191]\n",
      " [ 0.25943933  0.74056067]\n",
      " [ 0.1346166   0.8653834 ]]\n",
      "[1, 0, 0, 0, 1, 1, 0, 0, 0, 1, 0, 0, 0, 0, 0, 0, 0, 0, 0, 0, 0, 1, 0, 0, 0, 0, 0, 0, 0, 0, 1, 0, 0, 0, 0, 0, 0, 0, 0, 1, 0, 0, 0, 1, 0, 0, 0, 0, 0, 0, 0, 0, 0, 0, 0, 0, 0, 0, 0, 0, 0, 0, 0, 0, 0, 0, 0, 0, 0, 0, 1, 0, 0, 0, 1, 0, 1, 1, 0, 1, 0, 0, 0, 0, 1, 0, 0, 0, 1, 0, 0, 0, 1, 0, 0, 0, 0, 0, 0, 0]\n"
     ]
    }
   ],
   "source": [
    "# res = regressor.decision_function(features)\n",
    "res = regressor.predict_proba(get_features_for_data(test_data))\n",
    "\n",
    "print(res[0:20])\n",
    "# print(res2[0:20])\n",
    "print(train_y[0:100])"
   ]
  },
  {
   "cell_type": "code",
   "execution_count": 262,
   "metadata": {
    "collapsed": false
   },
   "outputs": [
    {
     "data": {
      "text/html": [
       "<div>\n",
       "<table border=\"1\" class=\"dataframe\">\n",
       "  <thead>\n",
       "    <tr style=\"text-align: right;\">\n",
       "      <th></th>\n",
       "      <th>Id</th>\n",
       "      <th>Answer</th>\n",
       "    </tr>\n",
       "  </thead>\n",
       "  <tbody>\n",
       "    <tr>\n",
       "      <th>0</th>\n",
       "      <td>0</td>\n",
       "      <td>0.273659</td>\n",
       "    </tr>\n",
       "    <tr>\n",
       "      <th>1</th>\n",
       "      <td>1</td>\n",
       "      <td>0.290892</td>\n",
       "    </tr>\n",
       "    <tr>\n",
       "      <th>2</th>\n",
       "      <td>2</td>\n",
       "      <td>0.225250</td>\n",
       "    </tr>\n",
       "    <tr>\n",
       "      <th>3</th>\n",
       "      <td>3</td>\n",
       "      <td>0.246654</td>\n",
       "    </tr>\n",
       "    <tr>\n",
       "      <th>4</th>\n",
       "      <td>4</td>\n",
       "      <td>0.266800</td>\n",
       "    </tr>\n",
       "    <tr>\n",
       "      <th>5</th>\n",
       "      <td>5</td>\n",
       "      <td>0.233586</td>\n",
       "    </tr>\n",
       "    <tr>\n",
       "      <th>6</th>\n",
       "      <td>6</td>\n",
       "      <td>0.184793</td>\n",
       "    </tr>\n",
       "    <tr>\n",
       "      <th>7</th>\n",
       "      <td>7</td>\n",
       "      <td>0.124808</td>\n",
       "    </tr>\n",
       "    <tr>\n",
       "      <th>8</th>\n",
       "      <td>8</td>\n",
       "      <td>0.124808</td>\n",
       "    </tr>\n",
       "    <tr>\n",
       "      <th>9</th>\n",
       "      <td>9</td>\n",
       "      <td>0.176139</td>\n",
       "    </tr>\n",
       "  </tbody>\n",
       "</table>\n",
       "</div>"
      ],
      "text/plain": [
       "   Id    Answer\n",
       "0   0  0.273659\n",
       "1   1  0.290892\n",
       "2   2  0.225250\n",
       "3   3  0.246654\n",
       "4   4  0.266800\n",
       "5   5  0.233586\n",
       "6   6  0.184793\n",
       "7   7  0.124808\n",
       "8   8  0.124808\n",
       "9   9  0.176139"
      ]
     },
     "execution_count": 262,
     "metadata": {},
     "output_type": "execute_result"
    }
   ],
   "source": [
    "submission = pd.read_csv(\"linear_ans_example.txt\")\n",
    "submission['Id'] = [i for i in range(len(res))]\n",
    "submission['Answer'] = res\n",
    "submission.to_csv(\"submission.txt\", sep=',', index=False)\n",
    "submission.head(10)"
   ]
  },
  {
   "cell_type": "code",
   "execution_count": null,
   "metadata": {
    "collapsed": false
   },
   "outputs": [],
   "source": []
  }
 ],
 "metadata": {
  "kernelspec": {
   "display_name": "Python 3",
   "language": "python",
   "name": "python3"
  },
  "language_info": {
   "codemirror_mode": {
    "name": "ipython",
    "version": 3
   },
   "file_extension": ".py",
   "mimetype": "text/x-python",
   "name": "python",
   "nbconvert_exporter": "python",
   "pygments_lexer": "ipython3",
   "version": "3.5.1"
  }
 },
 "nbformat": 4,
 "nbformat_minor": 0
}
