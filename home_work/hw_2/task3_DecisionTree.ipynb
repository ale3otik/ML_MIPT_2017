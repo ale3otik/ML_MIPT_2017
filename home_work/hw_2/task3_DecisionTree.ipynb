{
 "cells": [
  {
   "cell_type": "code",
   "execution_count": 74,
   "metadata": {
    "collapsed": false
   },
   "outputs": [],
   "source": [
    "import numpy as np\n",
    "from sklearn import metrics\n",
    "class DecisionTree:    \n",
    "    def __init__(self,depth_limit=100):\n",
    "        self.depth_limit = depth_limit\n",
    "        self.childs = [] # tree structure, cointains indices of nodes\n",
    "        self.feature_index = [] # index of feature using in splitting \n",
    "        self.feature_bound = [] # boundary value of current feature for node \n",
    "        self.leaf_target = [] # answer for leaf\n",
    "        \n",
    "    def _append_nodes(self,quantity):\n",
    "        for i in range(quantity):\n",
    "            self.childs.append([])\n",
    "            self.feature_index.append([])\n",
    "            self.feature_bound.append([])\n",
    "            self.leaf_target.append([])\n",
    "        \n",
    "    def _is_leaf(self, index) :\n",
    "        if len(self.childs[index]) == 0:\n",
    "            return True\n",
    "        return False\n",
    "\n",
    "    #using MSE metric\n",
    "    def _split(self,l_index, r_index, f_index, f_bound,real_split=False):\n",
    "        sorted_data = sorted(self.data[l_index:r_index],\n",
    "                    key=lambda x: x[f_index])\n",
    "        \n",
    "        if real_split:\n",
    "            self.train_data[l_index:r_index] = sorted_data\n",
    "            \n",
    "        #try to find where to split sorted data\n",
    "        bound_position = len(sorted_data)\n",
    "        for i in range(len(sorted_data)):\n",
    "            if sorted_data[i] > f_bound:\n",
    "                bound_position = i\n",
    "                break\n",
    "                    \n",
    "        #make split and calc MSE in childs\n",
    "        left_target = sorted_data[:bound_position][:,-1]\n",
    "        right_dtarget = sorted_data[bound_position:][:,-1]\n",
    "        HL = metrics.mean_squared_error(left_target)\n",
    "        HR = metrics.mean_squared_error(right_target)\n",
    "        L = len(left_target)\n",
    "        R = len(right_target)\n",
    "        Q = len(sorted_data)\n",
    "        \n",
    "        # return result of splitting \n",
    "        if real_split:\n",
    "            return bound_position\n",
    "        \n",
    "        #return quality of splitting\n",
    "        return L/Q * HL + R/Q * HR\n",
    "        \n",
    "    def _calc_split_metric(self,l_index, r_index, f_index, f_bound):\n",
    "        return self._split(l_index, r_index, f_index, f_bound)\n",
    "        \n",
    "    def _build_node(self,node_id,l_index,r_index,depth):\n",
    "        #stop splitting to make leaf\n",
    "        if depth >= self.depth_limit or r_index - l_index < 2:\n",
    "            #average value of leaf's targets\n",
    "            self.leaf_target[node_id] = np.mean(self.train_data[l_index:r_index][:,-1])\n",
    "            return\n",
    "        \n",
    "        # try to find best split \n",
    "        best_metric = 1e18\n",
    "        best_f_index = 0\n",
    "        best_bound = 0\n",
    "        for f_index in range(len(self.train_data) - 1):\n",
    "                l_bound = np.min(self.train_data[f_index])\n",
    "                r_bound = np.max(self.train_data[f_index])\n",
    "                step = (r_bound - l_bound) / 100 \n",
    "                for bound in np.arange(l_bound,r_bound,step=step):\n",
    "                    metric = self._calc_split_metric(l_index,r_index,f_index,bound)\n",
    "                    #update best result\n",
    "                    if best_metric > metric:\n",
    "                        best_metric = metric\n",
    "                        best_bound = bound\n",
    "                        best_f_index = f_index\n",
    "        if best_metric == 1e18:\n",
    "            self.leaf_target[node_id] = np.mean(self.train_data[l_index:r_index][:,-1])\n",
    "            return\n",
    "        \n",
    "        split_position = self._split(l_index,r_index,best_f_index,best_bound,real_split=True)\n",
    "        \n",
    "        #can't create appropriate division\n",
    "        if split_position == r_index - l_index:\n",
    "            self.leaf_target[node_id] = np.mean(self.train_data[l_index:r_index][:,-1])\n",
    "            return\n",
    "            \n",
    "        child_l = len(self.childs)\n",
    "        child_r = child_l + 1\n",
    "        self._append_nodes(2)\n",
    "        self.childs[node_id] = [child_l,child_r]\n",
    "        self.feature_index[node_id] = best_f_index\n",
    "        self.feature_bound[node_id] = best_bound\n",
    "        \n",
    "        self._build_node(child_l,l_index,split_position,depth+1)\n",
    "        self._build_node(child_r,split_position,r_index,depth+1)\n",
    "        \n",
    "    def _build(self):\n",
    "        l_index = 0\n",
    "        r_index = len(self.train_data)\n",
    "        \n",
    "        #add root to tree\n",
    "        self._append_nodes(1)\n",
    "        #build recursive \n",
    "        self._build_node(0,l_index,r_index,0)\n",
    "        #clear useless data\n",
    "        self.train_data = []\n",
    "        \n",
    "    def fit(self,features, target):\n",
    "        #copy data and join features and target\n",
    "        self.train_data = features.copy()\n",
    "        for i in range(len(train_data)):\n",
    "            self.train_data[i].append(target[i])\n",
    "        self.train_data = np.array(self.train_data)\n",
    "        self._build()\n",
    "        \n",
    "    #PREDICTION\n",
    "    def _find(self,node_id,test_features):\n",
    "        if self._is_leaf(node_id) :\n",
    "            return self.leaf_target[node_id]\n",
    "        \n",
    "        feature_id = self.feature_index[node_id]\n",
    "        bound = self.feature_bound[node_id]\n",
    "        test_value = test_features[feature_id]\n",
    "        if test_value <= bound:\n",
    "            #go down to the LEFT child\n",
    "            return self._find(self.childs[node_id][0],test_features)\n",
    "        else :\n",
    "            #go down to the RIGHT child\n",
    "            return self._find(self.childs[node_id][1],test_features)\n",
    "        \n",
    "    def predict(self,test_features):\n",
    "        return self._find(0,test_features)"
   ]
  },
  {
   "cell_type": "code",
   "execution_count": null,
   "metadata": {
    "collapsed": true
   },
   "outputs": [],
   "source": []
  },
  {
   "cell_type": "code",
   "execution_count": 60,
   "metadata": {
    "collapsed": false
   },
   "outputs": [],
   "source": [
    "from sklearn import datasets\n"
   ]
  },
  {
   "cell_type": "code",
   "execution_count": 29,
   "metadata": {
    "collapsed": false
   },
   "outputs": [],
   "source": [
    "boston = datasets.load_boston()\n",
    "features = boston['data']\n",
    "target = boston['target']"
   ]
  },
  {
   "cell_type": "code",
   "execution_count": 67,
   "metadata": {
    "collapsed": false
   },
   "outputs": [
    {
     "data": {
      "text/plain": [
       "[array([3, 1]), array([0, 1]), array([1, 2])]"
      ]
     },
     "execution_count": 67,
     "metadata": {},
     "output_type": "execute_result"
    }
   ],
   "source": [
    "a = np.array([[1,2],[3,1],[0,1]])\n",
    "sorted(a,key=lambda x : x[1])"
   ]
  },
  {
   "cell_type": "code",
   "execution_count": 48,
   "metadata": {
    "collapsed": false
   },
   "outputs": [
    {
     "data": {
      "text/plain": [
       "[7, 6, 3, 4, 5, 2, 1]"
      ]
     },
     "execution_count": 48,
     "metadata": {},
     "output_type": "execute_result"
    }
   ],
   "source": []
  }
 ],
 "metadata": {
  "kernelspec": {
   "display_name": "Python 3",
   "language": "python",
   "name": "python3"
  },
  "language_info": {
   "codemirror_mode": {
    "name": "ipython",
    "version": 3
   },
   "file_extension": ".py",
   "mimetype": "text/x-python",
   "name": "python",
   "nbconvert_exporter": "python",
   "pygments_lexer": "ipython3",
   "version": "3.5.1"
  }
 },
 "nbformat": 4,
 "nbformat_minor": 0
}
