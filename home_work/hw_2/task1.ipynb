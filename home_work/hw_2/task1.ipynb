{
 "cells": [
  {
   "cell_type": "markdown",
   "metadata": {},
   "source": [
    "## 1\n",
    "Рассмотрим какой-то лист и $\\{y_i\\}$ - обекты которые в него попали.\n",
    "\n",
    "$MSE_1 = \\frac{1}{n} \\sum (y_i - a)^2$ , где $a = \\overline y_i = E y_i$ - среднее значение таргета в листе на обучающей выборке.\n",
    "\n",
    "$MSE_2 = \\frac{1}{n} \\sum (y_i - \\theta_i)^2$, где $\\theta_i$ - значение равномерно случайного таргета из листа.\n",
    "\n",
    "Тогда $E\\theta_i = a \\quad \\forall i$\n",
    "\n",
    "$E(MSE_2) = \\frac{1}{n} \\sum E (y_i - \\theta_i)^2 = \\frac{1}{n} \\sum E y_i^2 - E 2 y_i \\theta_i + E \\theta_i^2 \n",
    "= \\frac{1}{n} \\sum y_i^2 - 2y_i a + \\left (D\\theta_i + (E\\theta_i)^2 \\right) = \n",
    "\\frac{1}{n} \\sum y_i^2 - 2y_i a + a^2 + D \\theta_i = D \\theta_1 + \\frac{1}{n} \\sum (y_i - a)^2 = D + MSE_1 \\leq MSE_1$\n",
    "\n",
    "Значит стратегия ответа средним значением таргетов в листе дает меньшее матожидание MSE ошибки.\n"
   ]
  },
  {
   "cell_type": "markdown",
   "metadata": {},
   "source": [
    "## 2\n"
   ]
  }
 ],
 "metadata": {
  "kernelspec": {
   "display_name": "Python 3",
   "language": "python",
   "name": "python3"
  },
  "language_info": {
   "codemirror_mode": {
    "name": "ipython",
    "version": 3
   },
   "file_extension": ".py",
   "mimetype": "text/x-python",
   "name": "python",
   "nbconvert_exporter": "python",
   "pygments_lexer": "ipython3",
   "version": "3.5.1"
  }
 },
 "nbformat": 4,
 "nbformat_minor": 0
}
