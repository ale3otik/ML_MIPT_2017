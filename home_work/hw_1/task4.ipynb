{
 "cells": [
  {
   "cell_type": "markdown",
   "metadata": {},
   "source": [
    "## 1\n",
    "Рассмотрим ответ наивного байесовского классификатора:\n",
    "\n",
    "$y_{\\text{bayes}} = argmax_y \\{ P(y|x) = \\frac{P(y)P(y|x)}{P(x)}\\} = argmax_y\\{\\frac{P(y)}{P(X)} \\prod P(y|x_i)\\} $\n",
    "\n",
    "В силу равной априорной вероятности классов и общего вида условных вероятностей получаем: \n",
    "\n",
    "$y_{\\text{bayes}}= argmax_y\\{\\prod P(y|x_i)\\} = argmax_y\\{ \\prod - e^{\\frac{\\left(x_i - \\mu_{yi}\\right)^2}{2\\sigma^2}}\\}$\n",
    "\n",
    "В силу монотонности экспоненты:\n",
    "\n",
    "$y_{\\text{bayes}} = argmin_y\\{ \\sum \\left( x_i - \\mu_{yi} \\right)^2 \\} = argmin_y\\{\\left|x - \\mu_y \\right|\\}$\n",
    "\n",
    "Т.е. $\\mu_y$ - ближайшая к $x$.\n",
    "\n"
   ]
  },
  {
   "cell_type": "markdown",
   "metadata": {},
   "source": [
    "## 2\n",
    "Пусть $a(x) = 1$ с вероятностью $p$ , $a(x) = 0$ с вероятностью $1-p$. $q$ - доля класса 1. \n",
    "\n",
    "Серединная точка на ROC- кривой: $(TPR,FPR)$, $TPR = \\frac{tp}{tp + fn}$; $FPR = \\frac{fp}{fp + tn}$\n",
    "\n",
    "$tp \\sim pq$\n",
    "\n",
    "$fp \\sim p(1-q)$\n",
    "\n",
    "$tn \\sim (1-p)(1-q)$\n",
    "\n",
    "$fn \\sim (1-p)q$\n",
    "\n",
    "\n",
    "$TPR = \\frac{pq}{q} = p$\n",
    "\n",
    "$FPR = \\frac{p(1-q)}{1-q} = p$\n",
    "\n",
    "Значит точка $(TPR,FPR) = (p,p)$ лежит на прямой $y = x$, значит $\\text{ROC-AUC} \\approx 0.5$"
   ]
  },
  {
   "cell_type": "markdown",
   "metadata": {},
   "source": []
  }
 ],
 "metadata": {
  "kernelspec": {
   "display_name": "Python 3",
   "language": "python",
   "name": "python3"
  },
  "language_info": {
   "codemirror_mode": {
    "name": "ipython",
    "version": 3
   },
   "file_extension": ".py",
   "mimetype": "text/x-python",
   "name": "python",
   "nbconvert_exporter": "python",
   "pygments_lexer": "ipython3",
   "version": "3.5.1"
  }
 },
 "nbformat": 4,
 "nbformat_minor": 0
}
