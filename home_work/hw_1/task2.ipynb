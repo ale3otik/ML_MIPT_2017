{
 "cells": [
  {
   "cell_type": "code",
   "execution_count": 14,
   "metadata": {
    "collapsed": true
   },
   "outputs": [],
   "source": [
    "import numpy as np\n",
    "import matplotlib.pyplot as pyplot\n",
    "import scipy.stats as sps\n",
    "from sklearn import datasets,cross_validation,neighbors,metrics\n",
    "from matplotlib.colors import ListedColormap\n",
    "from sklearn.naive_bayes import BernoulliNB, MultinomialNB, GaussianNB\n",
    "%matplotlib inline"
   ]
  },
  {
   "cell_type": "code",
   "execution_count": 4,
   "metadata": {
    "collapsed": true
   },
   "outputs": [],
   "source": [
    "digits_data = datasets.load_digits()\n",
    "digits_data = [digits_data['data'],digits_data['target']]\n",
    "\n",
    "breast_cancer_data = datasets.load_breast_cancer()\n",
    "breast_cancer_data = [breast_cancer_data['data'],breast_cancer_data['target']]"
   ]
  },
  {
   "cell_type": "code",
   "execution_count": 12,
   "metadata": {
    "collapsed": false
   },
   "outputs": [
    {
     "name": "stdout",
     "output_type": "stream",
     "text": [
      "[[  0.   0.   5.  13.   9.   1.   0.   0.   0.   0.  13.  15.  10.  15.\n",
      "    5.   0.   0.   3.  15.   2.   0.  11.   8.   0.   0.   4.  12.   0.\n",
      "    0.   8.   8.   0.   0.   5.   8.   0.   0.   9.   8.   0.   0.   4.\n",
      "   11.   0.   1.  12.   7.   0.   0.   2.  14.   5.  10.  12.   0.   0.\n",
      "    0.   0.   6.  13.  10.   0.   0.   0.]\n",
      " [  0.   0.   0.  12.  13.   5.   0.   0.   0.   0.   0.  11.  16.   9.\n",
      "    0.   0.   0.   0.   3.  15.  16.   6.   0.   0.   0.   7.  15.  16.\n",
      "   16.   2.   0.   0.   0.   0.   1.  16.  16.   3.   0.   0.   0.   0.\n",
      "    1.  16.  16.   6.   0.   0.   0.   0.   1.  16.  16.   6.   0.   0.\n",
      "    0.   0.   0.  11.  16.  10.   0.   0.]]\n"
     ]
    }
   ],
   "source": [
    "print(digits_data[0][:2])"
   ]
  },
  {
   "cell_type": "code",
   "execution_count": 13,
   "metadata": {
    "collapsed": false
   },
   "outputs": [
    {
     "name": "stdout",
     "output_type": "stream",
     "text": [
      "[[  1.79900000e+01   1.03800000e+01   1.22800000e+02   1.00100000e+03\n",
      "    1.18400000e-01   2.77600000e-01   3.00100000e-01   1.47100000e-01\n",
      "    2.41900000e-01   7.87100000e-02   1.09500000e+00   9.05300000e-01\n",
      "    8.58900000e+00   1.53400000e+02   6.39900000e-03   4.90400000e-02\n",
      "    5.37300000e-02   1.58700000e-02   3.00300000e-02   6.19300000e-03\n",
      "    2.53800000e+01   1.73300000e+01   1.84600000e+02   2.01900000e+03\n",
      "    1.62200000e-01   6.65600000e-01   7.11900000e-01   2.65400000e-01\n",
      "    4.60100000e-01   1.18900000e-01]\n",
      " [  2.05700000e+01   1.77700000e+01   1.32900000e+02   1.32600000e+03\n",
      "    8.47400000e-02   7.86400000e-02   8.69000000e-02   7.01700000e-02\n",
      "    1.81200000e-01   5.66700000e-02   5.43500000e-01   7.33900000e-01\n",
      "    3.39800000e+00   7.40800000e+01   5.22500000e-03   1.30800000e-02\n",
      "    1.86000000e-02   1.34000000e-02   1.38900000e-02   3.53200000e-03\n",
      "    2.49900000e+01   2.34100000e+01   1.58800000e+02   1.95600000e+03\n",
      "    1.23800000e-01   1.86600000e-01   2.41600000e-01   1.86000000e-01\n",
      "    2.75000000e-01   8.90200000e-02]]\n"
     ]
    }
   ],
   "source": [
    "print(breast_cancer_data[0][:2])"
   ]
  },
  {
   "cell_type": "code",
   "execution_count": 16,
   "metadata": {
    "collapsed": false
   },
   "outputs": [],
   "source": [
    "def get_score(data,target):\n",
    "    models = [BernoulliNB(),MultinomialNB(),GaussianNB()]\n",
    "    scores = []\n",
    "    for model in models:\n",
    "        scores.append(cross_validation.cross_val_score(model,data,target).mean())\n",
    "    return scores"
   ]
  },
  {
   "cell_type": "code",
   "execution_count": 17,
   "metadata": {
    "collapsed": false
   },
   "outputs": [
    {
     "data": {
      "text/plain": [
       "[0.82582365077805819, 0.87087714897350532, 0.81860038035501381]"
      ]
     },
     "execution_count": 17,
     "metadata": {},
     "output_type": "execute_result"
    }
   ],
   "source": [
    "get_score(digits_data[0],digits_data[1])"
   ]
  },
  {
   "cell_type": "markdown",
   "metadata": {},
   "source": [
    "Лучшую точность для digits дает MultinomialNB (0.87), что логично, т.к. признаки - целые числа в некотором диапазоне."
   ]
  },
  {
   "cell_type": "code",
   "execution_count": 18,
   "metadata": {
    "collapsed": false
   },
   "outputs": [
    {
     "data": {
      "text/plain": [
       "[0.62742040285899936, 0.89457904019307521, 0.9367492806089297]"
      ]
     },
     "execution_count": 18,
     "metadata": {},
     "output_type": "execute_result"
    }
   ],
   "source": [
    "get_score(breast_cancer_data[0],breast_cancer_data[1])"
   ]
  },
  {
   "cell_type": "markdown",
   "metadata": {},
   "source": [
    "Для breast_cancer_data лучше всех подошел GaussianNB (0.94), что ожидаемо, т.к. признаки - вещественные числа."
   ]
  },
  {
   "cell_type": "markdown",
   "metadata": {},
   "source": [
    "### 1,2 :\n",
    "- На digits : MultinomialNB (0.87)\n",
    "- На breast_cancer_data : GaussianNB (0.94)\n",
    "\n",
    "### 3 :\n",
    "- False\n",
    "- False\n",
    "- False (в данных тестах Multinomial показало себя лучше на вещественных признаках) \n",
    "- True"
   ]
  }
 ],
 "metadata": {
  "kernelspec": {
   "display_name": "Python 3",
   "language": "python",
   "name": "python3"
  },
  "language_info": {
   "codemirror_mode": {
    "name": "ipython",
    "version": 3
   },
   "file_extension": ".py",
   "mimetype": "text/x-python",
   "name": "python",
   "nbconvert_exporter": "python",
   "pygments_lexer": "ipython3",
   "version": "3.5.1"
  }
 },
 "nbformat": 4,
 "nbformat_minor": 0
}
